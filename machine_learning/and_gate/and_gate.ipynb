{
 "cells": [
  {
   "cell_type": "markdown",
   "metadata": {},
   "source": [
    "# AND GATE"
   ]
  },
  {
   "cell_type": "code",
   "execution_count": 7,
   "metadata": {},
   "outputs": [],
   "source": [
    "import numpy as np\n",
    "import matplotlib.pyplot as plt"
   ]
  },
  {
   "cell_type": "markdown",
   "metadata": {},
   "source": [
    "![waterfall](image.png)"
   ]
  },
  {
   "cell_type": "code",
   "execution_count": 8,
   "metadata": {},
   "outputs": [],
   "source": [
    "def ReLU(x):\n",
    "    return np.maximum(0, x)\n",
    "\n",
    "# Derivada de la función ReLU para arrays de numpy\n",
    "def deriv_ReLU(x):\n",
    "    return np.where(x >= 0, 1, 0)\n",
    "\n",
    "def MSE(y, a_2):\n",
    "    return 0.5 * np.sum((a_2 - y)**2)"
   ]
  },
  {
   "cell_type": "code",
   "execution_count": 9,
   "metadata": {},
   "outputs": [
    {
     "name": "stdout",
     "output_type": "stream",
     "text": [
      "[[1 1 0 0]\n",
      " [1 0 1 0]]\n",
      "[[1 0 0 0]]\n"
     ]
    }
   ],
   "source": [
    "x = np.array([[1,1],[1,0],[0,1],[0,0]]).T\n",
    "y = np.array([[1],[0],[0],[0]]).T\n",
    "print(x)\n",
    "print(y)"
   ]
  },
  {
   "cell_type": "code",
   "execution_count": 10,
   "metadata": {},
   "outputs": [],
   "source": [
    "W1 = np.random.randn(3, 2)\n",
    "W2 = np.random.randn(1, 3)\n",
    "b1 = np.random.randn(3,)\n",
    "b2 = np.random.randn(1,)\n"
   ]
  },
  {
   "cell_type": "markdown",
   "metadata": {},
   "source": [
    "![waterfall](backpropagation.png)"
   ]
  },
  {
   "cell_type": "code",
   "execution_count": 11,
   "metadata": {},
   "outputs": [
    {
     "name": "stdout",
     "output_type": "stream",
     "text": [
      "[[1 0 0 0]]\n",
      "[[-0.4546402   1.41220598 -0.47647351  0.        ]]\n",
      "1.497162862834057\n"
     ]
    },
    {
     "ename": "ValueError",
     "evalue": "shapes (3,4) and (1,4) not aligned: 4 (dim 1) != 1 (dim 0)",
     "output_type": "error",
     "traceback": [
      "\u001b[1;31m---------------------------------------------------------------------------\u001b[0m",
      "\u001b[1;31mValueError\u001b[0m                                Traceback (most recent call last)",
      "Cell \u001b[1;32mIn[11], line 14\u001b[0m\n\u001b[0;32m     12\u001b[0m delta2 \u001b[38;5;241m=\u001b[39m (y \u001b[38;5;241m-\u001b[39m A2) \u001b[38;5;241m*\u001b[39m deriv_ReLU(Z2)\n\u001b[0;32m     13\u001b[0m delta1 \u001b[38;5;241m=\u001b[39m np\u001b[38;5;241m.\u001b[39mdot(W2\u001b[38;5;241m.\u001b[39mT, delta2) \u001b[38;5;241m*\u001b[39m deriv_ReLU(Z1)\n\u001b[1;32m---> 14\u001b[0m W2 \u001b[38;5;241m-\u001b[39m\u001b[38;5;241m=\u001b[39m learning_rate \u001b[38;5;241m*\u001b[39m np\u001b[38;5;241m.\u001b[39mdot(A1, delta2)\n\u001b[0;32m     15\u001b[0m b2 \u001b[38;5;241m-\u001b[39m\u001b[38;5;241m=\u001b[39m learning_rate \u001b[38;5;241m*\u001b[39m delta2\n\u001b[0;32m     16\u001b[0m W1 \u001b[38;5;241m-\u001b[39m\u001b[38;5;241m=\u001b[39m learning_rate \u001b[38;5;241m*\u001b[39m np\u001b[38;5;241m.\u001b[39mdot(x, delta1)\n",
      "\u001b[1;31mValueError\u001b[0m: shapes (3,4) and (1,4) not aligned: 4 (dim 1) != 1 (dim 0)"
     ]
    }
   ],
   "source": [
    "learning_rate = 0.001\n",
    "for i in range(1000):\n",
    "    # forward propagation\n",
    "    Z1 = np.dot(W1, x)\n",
    "    A1 = ReLU(Z1)\n",
    "    Z2 = np.dot(W2, A1)\n",
    "    A2 = ReLU(Z2)\n",
    "    print(y)\n",
    "    print(Z2)\n",
    "    print(MSE(y, A2))\n",
    "    # Backpropagation\n",
    "    delta2 = (y - A2) * deriv_ReLU(Z2)\n",
    "    delta1 = np.dot(W2.T, delta2) * deriv_ReLU(Z1)\n",
    "    W2 -= learning_rate * np.dot(A1, delta2)\n",
    "    b2 -= learning_rate * delta2\n",
    "    W1 -= learning_rate * np.dot(x, delta1)\n",
    "    b1 -= learning_rate * delta1"
   ]
  },
  {
   "cell_type": "code",
   "execution_count": null,
   "metadata": {},
   "outputs": [],
   "source": []
  }
 ],
 "metadata": {
  "kernelspec": {
   "display_name": "base",
   "language": "python",
   "name": "python3"
  },
  "language_info": {
   "codemirror_mode": {
    "name": "ipython",
    "version": 3
   },
   "file_extension": ".py",
   "mimetype": "text/x-python",
   "name": "python",
   "nbconvert_exporter": "python",
   "pygments_lexer": "ipython3",
   "version": "3.12.4"
  }
 },
 "nbformat": 4,
 "nbformat_minor": 2
}
