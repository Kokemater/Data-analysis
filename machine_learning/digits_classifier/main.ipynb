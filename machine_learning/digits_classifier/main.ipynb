{
 "cells": [
  {
   "cell_type": "code",
   "execution_count": 89,
   "metadata": {},
   "outputs": [
    {
     "name": "stdout",
     "output_type": "stream",
     "text": [
      "x_shape = (784, 42000)\n",
      "y_shape = (42000,)\n"
     ]
    }
   ],
   "source": [
    "import numpy as np\n",
    "import pandas as pd\n",
    "from matplotlib import pyplot as plt\n",
    "\n",
    "data = pd.read_csv('MNIST_dataset/train.csv')\n",
    "\n",
    "data = np.array(data)\n",
    "x = data[:, 1:].T\n",
    "y = data[:, 0]\n",
    "print(f\"x_shape = {x.shape}\")\n",
    "print(f\"y_shape = {y.shape}\")"
   ]
  },
  {
   "cell_type": "markdown",
   "metadata": {},
   "source": [
    "Vamos a crear una red neuronal con la siguiente estructura: (784 x 12 x 12 x 10)"
   ]
  },
  {
   "cell_type": "markdown",
   "metadata": {},
   "source": [
    "![waterfall](nn.png)"
   ]
  },
  {
   "cell_type": "markdown",
   "metadata": {},
   "source": [
    "Functions"
   ]
  },
  {
   "cell_type": "code",
   "execution_count": 90,
   "metadata": {},
   "outputs": [],
   "source": [
    "def ReLU(x):\n",
    "    return np.maximum(0, x)\n",
    "\n",
    "# Derivada de la función ReLU para arrays de numpy\n",
    "def deriv_ReLU(x):\n",
    "    return np.where(x >= 0, 1, 0)\n",
    "\n",
    "def sigmoid(x):\n",
    "    return 1 / (1 + np.exp(-x))\n",
    "\n",
    "# Derivada de la función Sigmoide\n",
    "def deriv_sigmoid(x):\n",
    "    sig = sigmoid(x)\n",
    "    return sig * (1 - sig)\n",
    "\n",
    "def MSE(y, a_2):\n",
    "    return np.sum((a_2 - y)**2)"
   ]
  },
  {
   "cell_type": "markdown",
   "metadata": {},
   "source": [
    "Cambiamos el output deseado de número a vector con 1 en el correcto y 0 en el resto"
   ]
  },
  {
   "cell_type": "code",
   "execution_count": 91,
   "metadata": {},
   "outputs": [],
   "source": [
    "def one_hot_encode(number, num_classes = 10):\n",
    "    # Crear un vector de ceros de longitud igual al número de clases\n",
    "    one_hot = np.zeros(num_classes)\n",
    "    # Colocar un 1 en la posición correspondiente al número\n",
    "    one_hot[number] = 1\n",
    "    return one_hot\n",
    "y = np.array([one_hot_encode(num) for num in y]).T\n"
   ]
  },
  {
   "cell_type": "code",
   "execution_count": 92,
   "metadata": {},
   "outputs": [],
   "source": [
    "W1 = np.random.randn(12, 784)\n",
    "W2 = np.random.randn(12, 12)\n",
    "W3 = np.random.randn(10,12)\n",
    "b1 = np.random.randn(12,)\n",
    "b2 = np.random.randn(12,)\n",
    "b3 = np.random.randn(10,)"
   ]
  },
  {
   "cell_type": "code",
   "execution_count": 93,
   "metadata": {},
   "outputs": [
    {
     "name": "stderr",
     "output_type": "stream",
     "text": [
      "C:\\Users\\maris\\AppData\\Local\\Temp\\ipykernel_3316\\1140663413.py:9: RuntimeWarning: overflow encountered in exp\n",
      "  return 1 / (1 + np.exp(-x))\n"
     ]
    },
    {
     "name": "stdout",
     "output_type": "stream",
     "text": [
      "276179.9736970868\n",
      "253438.35956373299\n",
      "167077.57450368357\n",
      "93570.59511386644\n",
      "74166.03480915587\n",
      "73953.29012529428\n",
      "71521.35038187914\n",
      "69857.88438376786\n",
      "62402.304488897506\n",
      "56628.8282514907\n",
      "44567.98252993871\n",
      "44146.367106360856\n",
      "42265.961161632666\n",
      "42268.98338202496\n",
      "42242.03257924688\n",
      "42238.001154475845\n",
      "42233.00018163673\n",
      "42233.000000589294\n",
      "42233.000000577704\n",
      "42233.00000056655\n",
      "42233.00000055581\n",
      "42233.000000545464\n",
      "42233.00000053548\n",
      "42233.00000052585\n",
      "42233.00000051654\n",
      "42233.000000507556\n",
      "42233.00000049887\n",
      "42233.00000049046\n",
      "42233.00000048232\n",
      "42233.00000047445\n",
      "42233.00000046682\n",
      "42233.00000045942\n",
      "42233.000000452244\n",
      "42233.00000044528\n",
      "42233.00000043852\n",
      "42233.00000043196\n",
      "42233.000000425585\n",
      "42233.000000419386\n",
      "42233.00000041336\n",
      "42233.0000004075\n",
      "42233.00000040179\n",
      "42233.000000396234\n",
      "42233.00000039083\n",
      "42233.00000038557\n",
      "42233.00000038043\n",
      "42233.000000375425\n",
      "42233.00000037055\n",
      "42233.00000036579\n",
      "42233.000000361135\n",
      "42233.00000035661\n",
      "42233.000000352185\n",
      "42233.000000347856\n",
      "42233.00000034363\n",
      "42233.00000033951\n",
      "42233.00000033548\n",
      "42233.000000331536\n",
      "42233.00000032768\n",
      "42233.000000323904\n",
      "42233.000000320215\n",
      "42233.000000316606\n",
      "42233.00000031307\n",
      "42233.00000030961\n",
      "42233.000000306216\n",
      "42233.0000003029\n",
      "42233.00000029964\n",
      "42233.00000029645\n"
     ]
    },
    {
     "ename": "KeyboardInterrupt",
     "evalue": "",
     "output_type": "error",
     "traceback": [
      "\u001b[1;31m---------------------------------------------------------------------------\u001b[0m",
      "\u001b[1;31mKeyboardInterrupt\u001b[0m                         Traceback (most recent call last)",
      "Cell \u001b[1;32mIn[93], line 20\u001b[0m\n\u001b[0;32m     18\u001b[0m W2 \u001b[38;5;241m-\u001b[39m\u001b[38;5;241m=\u001b[39m learning_rate \u001b[38;5;241m*\u001b[39m np\u001b[38;5;241m.\u001b[39mdot(delta2, A1\u001b[38;5;241m.\u001b[39mT)\n\u001b[0;32m     19\u001b[0m b2 \u001b[38;5;241m-\u001b[39m\u001b[38;5;241m=\u001b[39m learning_rate \u001b[38;5;241m*\u001b[39m np\u001b[38;5;241m.\u001b[39msum(delta2)\n\u001b[1;32m---> 20\u001b[0m W1 \u001b[38;5;241m-\u001b[39m\u001b[38;5;241m=\u001b[39m learning_rate \u001b[38;5;241m*\u001b[39m np\u001b[38;5;241m.\u001b[39mdot(delta1, x\u001b[38;5;241m.\u001b[39mT)\n\u001b[0;32m     21\u001b[0m b1 \u001b[38;5;241m-\u001b[39m\u001b[38;5;241m=\u001b[39m learning_rate \u001b[38;5;241m*\u001b[39m np\u001b[38;5;241m.\u001b[39msum(delta1)\n",
      "\u001b[1;31mKeyboardInterrupt\u001b[0m: "
     ]
    }
   ],
   "source": [
    "learning_rate = 0.0001\n",
    "for _ in range(1000):\n",
    "    # forward propagation\n",
    "    Z1 = np.dot(W1,x) + b1[:, np.newaxis]\n",
    "    A1 = ReLU(Z1)\n",
    "    Z2 = np.dot(W2,A1) + b2[:, np.newaxis]\n",
    "    A2 = ReLU(Z2)\n",
    "    Z3 = np.dot(W3,A2) + b3[:, np.newaxis]\n",
    "    A3 = sigmoid(Z3)\n",
    "    print(MSE(y, A3))\n",
    "    # Backpropagation\n",
    "    delta3 = -(y - A3) * deriv_sigmoid(Z3)\n",
    "    delta2 = np.dot(W3.T, delta3) * deriv_ReLU(Z2)\n",
    "    delta1 = np.dot(W2.T, delta2) * deriv_ReLU(Z1)\n",
    "\n",
    "    W3 -= learning_rate * np.dot(delta3, A2.T)\n",
    "    b3 -= learning_rate * np.sum(delta3)\n",
    "    W2 -= learning_rate * np.dot(delta2, A1.T)\n",
    "    b2 -= learning_rate * np.sum(delta2)\n",
    "    W1 -= learning_rate * np.dot(delta1, x.T)\n",
    "    b1 -= learning_rate * np.sum(delta1)\n"
   ]
  },
  {
   "cell_type": "code",
   "execution_count": null,
   "metadata": {},
   "outputs": [],
   "source": []
  }
 ],
 "metadata": {
  "kernelspec": {
   "display_name": "base",
   "language": "python",
   "name": "python3"
  },
  "language_info": {
   "codemirror_mode": {
    "name": "ipython",
    "version": 3
   },
   "file_extension": ".py",
   "mimetype": "text/x-python",
   "name": "python",
   "nbconvert_exporter": "python",
   "pygments_lexer": "ipython3",
   "version": "3.12.4"
  }
 },
 "nbformat": 4,
 "nbformat_minor": 2
}
