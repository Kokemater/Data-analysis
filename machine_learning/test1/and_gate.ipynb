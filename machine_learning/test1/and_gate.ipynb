{
 "cells": [
  {
   "cell_type": "markdown",
   "metadata": {},
   "source": [
    "# AND GATE"
   ]
  },
  {
   "cell_type": "code",
   "execution_count": 35,
   "metadata": {},
   "outputs": [],
   "source": [
    "import numpy as np\n",
    "import matplotlib.pyplot as plt"
   ]
  },
  {
   "cell_type": "code",
   "execution_count": 36,
   "metadata": {},
   "outputs": [],
   "source": [
    "def ReLU(x):\n",
    "    return np.maximum(0, x)\n",
    "\n",
    "# Derivada de la función ReLU para arrays de numpy\n",
    "def deriv_ReLU(x):\n",
    "    return np.where(x >= 0, 1, 0)\n",
    "\n",
    "def MSE(y, a_2):\n",
    "    return 0.5 * np.sum((a_2 - y)**2)"
   ]
  },
  {
   "cell_type": "code",
   "execution_count": 37,
   "metadata": {},
   "outputs": [
    {
     "name": "stdout",
     "output_type": "stream",
     "text": [
      "[[1 1 0 0]\n",
      " [1 0 1 0]]\n",
      "[[1 0 0 0]]\n"
     ]
    }
   ],
   "source": [
    "x = np.array([[1,1],[1,0],[0,1],[0,0]]).T\n",
    "y = np.array([[1],[0],[0],[0]]).T\n",
    "print(x)\n",
    "print(y)"
   ]
  },
  {
   "cell_type": "code",
   "execution_count": 38,
   "metadata": {},
   "outputs": [],
   "source": [
    "W1 = np.random.randn(3, 2)\n",
    "W2 = np.random.randn(1, 3)\n",
    "b1 = np.random.randn(3,)\n",
    "b2 = np.random.randn(1,)\n"
   ]
  },
  {
   "cell_type": "code",
   "execution_count": 39,
   "metadata": {},
   "outputs": [
    {
     "name": "stdout",
     "output_type": "stream",
     "text": [
      "[[1 0 0 0]]\n",
      "[[-0.566978   -0.26548279  0.16350296  0.        ]]\n",
      "0.5133666089924801\n"
     ]
    }
   ],
   "source": [
    "# forward propagation\n",
    "Z1 = np.dot(W1, x)\n",
    "A1 = ReLU(Z1)\n",
    "Z2 = np.dot(W2, A1)\n",
    "A2 = ReLU(Z2)\n",
    "print(y)\n",
    "print(Z2)\n",
    "print(MSE(y, A2))"
   ]
  }
 ],
 "metadata": {
  "kernelspec": {
   "display_name": "base",
   "language": "python",
   "name": "python3"
  },
  "language_info": {
   "codemirror_mode": {
    "name": "ipython",
    "version": 3
   },
   "file_extension": ".py",
   "mimetype": "text/x-python",
   "name": "python",
   "nbconvert_exporter": "python",
   "pygments_lexer": "ipython3",
   "version": "3.12.4"
  }
 },
 "nbformat": 4,
 "nbformat_minor": 2
}
